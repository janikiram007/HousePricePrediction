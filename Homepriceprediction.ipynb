{
  "nbformat": 4,
  "nbformat_minor": 0,
  "metadata": {
    "colab": {
      "name": "updatedpythonfile.ipynb",
      "provenance": [],
      "collapsed_sections": [],
      "toc_visible": true
    },
    "kernelspec": {
      "display_name": "Python 3",
      "language": "python",
      "name": "python3"
    }
  },
  "cells": [
    {
      "cell_type": "markdown",
      "metadata": {
        "id": "PJ5bCq5cLKCk"
      },
      "source": [
        "<center>\n",
        "<hr>\n",
        "<h2>Predict The Bay Area’s Home Prices</h2>\n",
        "<hr>\n",
        "</center>"
      ]
    },
    {
      "cell_type": "markdown",
      "metadata": {
        "id": "GNeQH__wLKCq"
      },
      "source": [
      ]
    },
    {
      "cell_type": "markdown",
      "metadata": {
        "id": "kgy7QxVoLKCv"
      },
      "source": [
        "* In this assignment, you will investigate the housing price dataset from Bay Area Home Sales Database and Zillow to Predict The Bay Area’s Home Prices.\n",
        "* This dataset was based on the homes sold between January 2013 and December 2015.\n",
        "* Please use all the techniques we have learned in the class to preprocesss/clean the dataset.\n",
        "* You can drop redundant features.\n",
        "<p style=\"color:blue\"><b>final_data.csv</b></p>\n",
        "* Please apply the folowing two methods to Predict The Bay Area’s Home Prices.\n",
        "\n",
        "<h3>Method 1: Multiple Linear Regression</h3>\n",
        "* Bulding the optimal model using Automatic implementations of Backward Elimination\n",
        "```\n",
        "def backwardElimination(x, sl):\n",
        "    numVars = len(x[0])\n",
        "    for i in range(0, numVars):\n",
        "        regressor_OLS = sm.OLS(y, x).fit()\n",
        "        maxVar = max(regressor_OLS.pvalues)\n",
        "        if maxVar > sl:\n",
        "            for j in range(0, numVars - i):\n",
        "                if (regressor_OLS.pvalues[j] == maxVar):\n",
        "                    x = np.delete(x, j, 1)\n",
        "    regressor_OLS.summary()\n",
        "    return x\n",
        "```\n",
        "* Split the dataset into training sets and test sets\n",
        "* Fit LinearRegression to the training sets \n",
        "* Print the Linear Regression R squared score on the test sets\n",
        "* Print the Linear Regression RMSE score between on the test sets\n",
        "\n",
        "<h3>Method 2: Least Absolute Shrinkage and Selection Operator(Lasso)</h3>\n",
        "* Split the dataset into training sets and test sets\n",
        "* Fit Lasso to the training sets. \n",
        "* Print the Lasso R squared score on the test sets\n",
        "* Print the Lasso RMSE score between on the test sets\n"
      ]
    },
    {
      "cell_type": "markdown",
      "metadata": {
        "id": "IEuOvSsuLKCz"
      },
      "source": [
        "## 1. Import dataset \"final_data.csv\" in pandas (5 points)"
      ]
    },
    {
      "cell_type": "code",
      "metadata": {
        "id": "TfsQq3JiLKC3",
        "colab": {
          "base_uri": "https://localhost:8080/",
          "height": 607
        },
        "outputId": "49f42782-4f40-419c-bf5f-653388d540b4"
      },
      "source": [
        "import pandas as pd\n",
        "dataset = pd.read_csv(\"final_data.csv\")\n",
        "print(dataset.head())"
      ],
      "execution_count": null,
      "outputs": [
        {
          "output_type": "stream",
          "text": [
            "   Unnamed: 0                             address  \\\n",
            "0           2  Address: 1160 Mission Street #2007   \n",
            "1           5       Address: 260 King Street #475   \n",
            "2           7     Address: 560 Missouri Street #B   \n",
            "3           9        Address: 350 Missouri Street   \n",
            "4          11         Address: 3658 Folsom Street   \n",
            "\n",
            "                                                info  \\\n",
            "0   San FranciscoSales price: 1300000Sales date: ...   \n",
            "1   San FranciscoSales price: 750000Sales date: 0...   \n",
            "2   San FranciscoSales price: 1495000Sales date: ...   \n",
            "3   San FranciscoSales price: 2700000Sales date: ...   \n",
            "4   San FranciscoSales price: 1530000Sales date: ...   \n",
            "\n",
            "                   z_address  bathrooms  bedrooms  finishedsqft lastsolddate  \\\n",
            "0  1160 Mission St UNIT 2007        2.0       2.0        1043.0   02/17/2016   \n",
            "1       260 King St UNIT 475        1.0       1.0         903.0   02/17/2016   \n",
            "2        560 Missouri St # B        4.0       3.0        1425.0   02/17/2016   \n",
            "3            350 Missouri St        3.0       3.0        2231.0   02/17/2016   \n",
            "4             3658 Folsom St        3.0       3.0        1300.0   02/17/2016   \n",
            "\n",
            "   lastsoldprice   latitude   longitude     neighborhood  totalrooms  \\\n",
            "0      1300000.0  37.778705 -122.412635  South of Market         4.0   \n",
            "1       750000.0  37.777641 -122.393417  South of Market         3.0   \n",
            "2      1495000.0  37.759198 -122.396516     Potrero Hill         6.0   \n",
            "3      2700000.0  37.761886 -122.396769     Potrero Hill        10.0   \n",
            "4      1530000.0  37.740795 -122.413453   Bernal Heights         4.0   \n",
            "\n",
            "        usecode  yearbuilt  zestimate zindexvalue  zipcode        zpid  \n",
            "0   Condominium     2007.0  1167508.0     975,700  94103.0  83152781.0  \n",
            "1   Condominium     2004.0   823719.0     975,700  94107.0  69819817.0  \n",
            "2   Condominium     2003.0  1708594.0   1,277,600  94107.0  64972847.0  \n",
            "3  SingleFamily     1927.0  2411236.0   1,277,600  94107.0  15149489.0  \n",
            "4  SingleFamily     1900.0  1918539.0   1,248,000  94110.0  15161978.0  \n"
          ],
          "name": "stdout"
        }
      ]
    },
    {
      "cell_type": "markdown",
      "metadata": {
        "collapsed": true,
        "id": "uqf9NZ3yLKDP"
      },
      "source": [
        "## 2. Preprocess/Clean the Dataset"
      ]
    },
    {
      "cell_type": "code",
      "metadata": {
        "id": "bKBP4a4ZLKDT",
        "colab": {
          "base_uri": "https://localhost:8080/",
          "height": 52
        },
        "outputId": "ca6233d5-c8e6-427c-acb7-d426d36733af"
      },
      "source": [
        "count=0\n",
        "for i in range(dataset.shape[1]):\n",
        "    count=count+sum(dataset.iloc[:,i].isnull())\n",
        "    #print ('Number of null values in',dataset.columns.values[i],'column is',count)\n",
        "print(\"Number of Null values in the dataset is\" , count)\n",
        "print(\"shape of dataset is\",dataset.shape)"
      ],
      "execution_count": null,
      "outputs": [
        {
          "output_type": "stream",
          "text": [
            "Number of Null values in the dataset is 0\n",
            "shape of dataset is (11330, 19)\n"
          ],
          "name": "stdout"
        }
      ]
    },
    {
      "cell_type": "code",
      "metadata": {
        "id": "4-BwXigoLKDj",
        "colab": {
          "base_uri": "https://localhost:8080/",
          "height": 416
        },
        "outputId": "024baf4a-753b-42fe-d402-01853b370897"
      },
      "source": [
        "#dataset.dtypes\n",
        "dataset[\"lastsolddate\"]=pd.to_datetime(dataset[\"lastsolddate\"])\n",
        "\n",
        "dataset['lastSoldYearMonth'] = dataset['lastsolddate'].map(lambda x: 100*x.year + x.month)\n",
        "#dataset['last_sold_year'] = dataset.lastsolddate.dt.year\n",
        "\n",
        "\n",
        "dataset['Lot size']=dataset['info'].map(lambda x: x.split(\":\")[-1])       #getting lot size from info\n",
        "dataset['Lot size']=pd.to_numeric(dataset['Lot size'])\n",
        "#dataset['Lot size']=dataset['Lot size'].astype(str).astype(int)         #converting to type int\n",
        "print(dataset['Lot size'].nunique())  \n",
        "\n",
        "\n",
        "#dataset['info'] = dataset['info'].astype(str)\n",
        "#dataset.info.apply(str)\n",
        "#print(list(dataset['info'][0].split(\":\"))[-1])\n",
        "#print(len(dataset))\n",
        "\n",
        "#for i in range(len(dataset)):\n",
        "#    dataset.loc[i,'Lot size']=list(dataset['info'][i].split(\":\"))[-1]\n",
        "#dataset['Lot size']=pd.Series(list(dataset.loc[:,'info'].str.split(\":\"))[-1])\n",
        "#dataset['Lot size']=list(dataset.loc[:,'info'].str.split(\":\"))[-1]\n",
        "#print(dataset.head(3))\n",
        "dataset.dtypes"
      ],
      "execution_count": null,
      "outputs": [
        {
          "output_type": "stream",
          "text": [
            "2558\n"
          ],
          "name": "stdout"
        },
        {
          "output_type": "execute_result",
          "data": {
            "text/plain": [
              "Unnamed: 0                    int64\n",
              "address                      object\n",
              "info                         object\n",
              "z_address                    object\n",
              "bathrooms                   float64\n",
              "bedrooms                    float64\n",
              "finishedsqft                float64\n",
              "lastsolddate         datetime64[ns]\n",
              "lastsoldprice               float64\n",
              "latitude                    float64\n",
              "longitude                   float64\n",
              "neighborhood                 object\n",
              "totalrooms                  float64\n",
              "usecode                      object\n",
              "yearbuilt                   float64\n",
              "zestimate                   float64\n",
              "zindexvalue                  object\n",
              "zipcode                     float64\n",
              "zpid                        float64\n",
              "lastSoldYearMonth             int64\n",
              "Lot size                      int64\n",
              "dtype: object"
            ]
          },
          "metadata": {
            "tags": []
          },
          "execution_count": 3
        }
      ]
    },
    {
      "cell_type": "code",
      "metadata": {
        "id": "ynAEq4Q_LKD0",
        "colab": {
          "base_uri": "https://localhost:8080/",
          "height": 35
        },
        "outputId": "5b0b7ed6-9203-4cf9-b856-dffebf19e50b"
      },
      "source": [
        "print(dataset.neighborhood.nunique())              #no of diff values in column neighborhood is 71\n",
        "\n",
        "from sklearn.preprocessing import LabelEncoder              #So lets use this column values by encoding\n",
        "lblEncoder = LabelEncoder()\n",
        "dataset['neighborhood']=lblEncoder.fit_transform(dataset['neighborhood'])\n"
      ],
      "execution_count": null,
      "outputs": [
        {
          "output_type": "stream",
          "text": [
            "71\n"
          ],
          "name": "stdout"
        }
      ]
    },
    {
      "cell_type": "code",
      "metadata": {
        "id": "9QLbfCkRLKEE",
        "colab": {
          "base_uri": "https://localhost:8080/",
          "height": 35
        },
        "outputId": "e3b0f9bb-1c37-4cdb-bbac-767cbbe0b8c9"
      },
      "source": [
        "print(dataset.usecode.nunique())                  #no of diff values in column usecode is 10\n",
        "\n",
        "from sklearn.preprocessing import LabelEncoder              #So lets use this column values by encoding\n",
        "lblEncoder = LabelEncoder()\n",
        "dataset['usecode']=lblEncoder.fit_transform(dataset['usecode'])\n"
      ],
      "execution_count": null,
      "outputs": [
        {
          "output_type": "stream",
          "text": [
            "10\n"
          ],
          "name": "stdout"
        }
      ]
    },
    {
      "cell_type": "code",
      "metadata": {
        "id": "fft463EyLKEU",
        "colab": {
          "base_uri": "https://localhost:8080/",
          "height": 936
        },
        "outputId": "6529663a-bee2-4ba2-f7ac-8f5574840fdf"
      },
      "source": [
        "#dataset['zindexvalue']=dataset['zindexvalue'].map(lambda x: x)      \n",
        "#removing ',' in zindecvalue\n",
        "dataset[\"zindexvalue\"] = dataset[\"zindexvalue\"].str.replace(',','')\n",
        "dataset[\"zindexvalue\"] = pd.to_numeric(dataset[\"zindexvalue\"])\n",
        "\n",
        "\n",
        "print(dataset.head(3))\n",
        "\n",
        "dataset.dtypes"
      ],
      "execution_count": null,
      "outputs": [
        {
          "output_type": "stream",
          "text": [
            "   Unnamed: 0                             address  \\\n",
            "0           2  Address: 1160 Mission Street #2007   \n",
            "1           5       Address: 260 King Street #475   \n",
            "2           7     Address: 560 Missouri Street #B   \n",
            "\n",
            "                                                info  \\\n",
            "0   San FranciscoSales price: 1300000Sales date: ...   \n",
            "1   San FranciscoSales price: 750000Sales date: 0...   \n",
            "2   San FranciscoSales price: 1495000Sales date: ...   \n",
            "\n",
            "                   z_address  bathrooms  bedrooms  finishedsqft lastsolddate  \\\n",
            "0  1160 Mission St UNIT 2007        2.0       2.0        1043.0   2016-02-17   \n",
            "1       260 King St UNIT 475        1.0       1.0         903.0   2016-02-17   \n",
            "2        560 Missouri St # B        4.0       3.0        1425.0   2016-02-17   \n",
            "\n",
            "   lastsoldprice   latitude    ...     neighborhood  totalrooms  usecode  \\\n",
            "0      1300000.0  37.778705    ...               59         4.0        1   \n",
            "1       750000.0  37.777641    ...               59         3.0        1   \n",
            "2      1495000.0  37.759198    ...               53         6.0        1   \n",
            "\n",
            "   yearbuilt  zestimate  zindexvalue  zipcode        zpid  lastSoldYearMonth  \\\n",
            "0     2007.0  1167508.0       975700  94103.0  83152781.0             201602   \n",
            "1     2004.0   823719.0       975700  94107.0  69819817.0             201602   \n",
            "2     2003.0  1708594.0      1277600  94107.0  64972847.0             201602   \n",
            "\n",
            "   Lot size  \n",
            "0     43557  \n",
            "1    213232  \n",
            "2      2496  \n",
            "\n",
            "[3 rows x 21 columns]\n"
          ],
          "name": "stdout"
        },
        {
          "output_type": "execute_result",
          "data": {
            "text/plain": [
              "Unnamed: 0                    int64\n",
              "address                      object\n",
              "info                         object\n",
              "z_address                    object\n",
              "bathrooms                   float64\n",
              "bedrooms                    float64\n",
              "finishedsqft                float64\n",
              "lastsolddate         datetime64[ns]\n",
              "lastsoldprice               float64\n",
              "latitude                    float64\n",
              "longitude                   float64\n",
              "neighborhood                  int64\n",
              "totalrooms                  float64\n",
              "usecode                       int64\n",
              "yearbuilt                   float64\n",
              "zestimate                   float64\n",
              "zindexvalue                   int64\n",
              "zipcode                     float64\n",
              "zpid                        float64\n",
              "lastSoldYearMonth             int64\n",
              "Lot size                      int64\n",
              "dtype: object"
            ]
          },
          "metadata": {
            "tags": []
          },
          "execution_count": 6
        }
      ]
    },
    {
      "cell_type": "code",
      "metadata": {
        "id": "TyofuOW9LKEk",
        "colab": {
          "base_uri": "https://localhost:8080/",
          "height": 277
        },
        "outputId": "f888581b-786d-421f-d68d-39fa9fe8859f"
      },
      "source": [
        "X=dataset.drop(['address', 'info', 'z_address','Unnamed: 0' ,'lastsolddate' ], axis=1)\n",
        "\n",
        "print(\"hi\")\n",
        "\n",
        "print(X.head(3))"
      ],
      "execution_count": null,
      "outputs": [
        {
          "output_type": "stream",
          "text": [
            "hi\n",
            "   bathrooms  bedrooms  finishedsqft  lastsoldprice   latitude   longitude  \\\n",
            "0        2.0       2.0        1043.0      1300000.0  37.778705 -122.412635   \n",
            "1        1.0       1.0         903.0       750000.0  37.777641 -122.393417   \n",
            "2        4.0       3.0        1425.0      1495000.0  37.759198 -122.396516   \n",
            "\n",
            "   neighborhood  totalrooms  usecode  yearbuilt  zestimate  zindexvalue  \\\n",
            "0            59         4.0        1     2007.0  1167508.0       975700   \n",
            "1            59         3.0        1     2004.0   823719.0       975700   \n",
            "2            53         6.0        1     2003.0  1708594.0      1277600   \n",
            "\n",
            "   zipcode        zpid  lastSoldYearMonth  Lot size  \n",
            "0  94103.0  83152781.0             201602     43557  \n",
            "1  94107.0  69819817.0             201602    213232  \n",
            "2  94107.0  64972847.0             201602      2496  \n"
          ],
          "name": "stdout"
        }
      ]
    },
    {
      "cell_type": "code",
      "metadata": {
        "id": "q7TT-C0_LKE0",
        "colab": {
          "base_uri": "https://localhost:8080/",
          "height": 537
        },
        "outputId": "c9808ec3-c161-4dbe-cced-ef7eae556ddf"
      },
      "source": [
        "X = X.drop('lastsoldprice', axis=1)\n",
        "y = dataset['lastsoldprice']\n",
        "\n",
        "print(X.head(3))\n",
        "\n",
        "X.dtypes"
      ],
      "execution_count": null,
      "outputs": [
        {
          "output_type": "stream",
          "text": [
            "   bathrooms  bedrooms  finishedsqft   latitude   longitude  neighborhood  \\\n",
            "0        2.0       2.0        1043.0  37.778705 -122.412635            59   \n",
            "1        1.0       1.0         903.0  37.777641 -122.393417            59   \n",
            "2        4.0       3.0        1425.0  37.759198 -122.396516            53   \n",
            "\n",
            "   totalrooms  usecode  yearbuilt  zestimate  zindexvalue  zipcode  \\\n",
            "0         4.0        1     2007.0  1167508.0       975700  94103.0   \n",
            "1         3.0        1     2004.0   823719.0       975700  94107.0   \n",
            "2         6.0        1     2003.0  1708594.0      1277600  94107.0   \n",
            "\n",
            "         zpid  lastSoldYearMonth  Lot size  \n",
            "0  83152781.0             201602     43557  \n",
            "1  69819817.0             201602    213232  \n",
            "2  64972847.0             201602      2496  \n"
          ],
          "name": "stdout"
        },
        {
          "output_type": "execute_result",
          "data": {
            "text/plain": [
              "bathrooms            float64\n",
              "bedrooms             float64\n",
              "finishedsqft         float64\n",
              "latitude             float64\n",
              "longitude            float64\n",
              "neighborhood           int64\n",
              "totalrooms           float64\n",
              "usecode                int64\n",
              "yearbuilt            float64\n",
              "zestimate            float64\n",
              "zindexvalue            int64\n",
              "zipcode              float64\n",
              "zpid                 float64\n",
              "lastSoldYearMonth      int64\n",
              "Lot size               int64\n",
              "dtype: object"
            ]
          },
          "metadata": {
            "tags": []
          },
          "execution_count": 8
        }
      ]
    },
    {
      "cell_type": "markdown",
      "metadata": {
        "id": "4lxm3VApLKFF"
      },
      "source": [
        "## 3. Method 1: Multiple Linear Regression (30 points)"
      ]
    },
    {
      "cell_type": "code",
      "metadata": {
        "id": "cgM3smGFLKFJ",
        "colab": {
          "base_uri": "https://localhost:8080/",
          "height": 607
        },
        "outputId": "8c65faea-e59a-4cd0-bb27-d80561956ed6"
      },
      "source": [
        "import statsmodels.api as sm\n",
        "import numpy as np\n",
        "def backwardElimination(x,y, sl):\n",
        "  numVars = len(x[0])\n",
        "  for i in range(0, numVars):\n",
        "      regressor_OLS = sm.OLS(y, x.astype(float)).fit()\n",
        "      maxVar = max(regressor_OLS.pvalues)\n",
        "      if maxVar > sl:\n",
        "          for j in range(0, numVars - i):\n",
        "              if (regressor_OLS.pvalues[j] == maxVar):\n",
        "                  x = np.delete(x, j, 1)\n",
        "  print(regressor_OLS.summary())\n",
        "  return x\n",
        "train_X = backwardElimination(X.values,y,sl = 0.06)"
      ],
      "execution_count": null,
      "outputs": [
        {
          "output_type": "stream",
          "text": [
            "                            OLS Regression Results                            \n",
            "==============================================================================\n",
            "Dep. Variable:          lastsoldprice   R-squared:                       0.919\n",
            "Model:                            OLS   Adj. R-squared:                  0.919\n",
            "Method:                 Least Squares   F-statistic:                 1.429e+04\n",
            "Date:                Sun, 03 Mar 2019   Prob (F-statistic):               0.00\n",
            "Time:                        10:55:50   Log-Likelihood:            -1.6395e+05\n",
            "No. Observations:               11330   AIC:                         3.279e+05\n",
            "Df Residuals:                   11321   BIC:                         3.280e+05\n",
            "Df Model:                           9                                         \n",
            "Covariance Type:            nonrobust                                         \n",
            "==============================================================================\n",
            "                 coef    std err          t      P>|t|      [0.025      0.975]\n",
            "------------------------------------------------------------------------------\n",
            "x1           6.47e+04   7054.271      9.172      0.000    5.09e+04    7.85e+04\n",
            "x2         -4.222e+04   5664.581     -7.454      0.000   -5.33e+04   -3.11e+04\n",
            "x3           -60.5215      9.339     -6.481      0.000     -78.827     -42.216\n",
            "x4          5929.6317   1565.886      3.787      0.000    2860.223    8999.041\n",
            "x5          -519.2460    139.799     -3.714      0.000    -793.277    -245.215\n",
            "x6             0.7691      0.006    123.120      0.000       0.757       0.781\n",
            "x7            -0.0215      0.009     -2.322      0.020      -0.040      -0.003\n",
            "x8         -2473.2057     62.607    -39.503      0.000   -2595.927   -2350.485\n",
            "x9          1161.5383     29.211     39.764      0.000    1104.280    1218.797\n",
            "==============================================================================\n",
            "Omnibus:                    10124.320   Durbin-Watson:                   1.957\n",
            "Prob(Omnibus):                  0.000   Jarque-Bera (JB):          3829339.363\n",
            "Skew:                           3.425   Prob(JB):                         0.00\n",
            "Kurtosis:                      92.803   Cond. No.                     4.29e+06\n",
            "==============================================================================\n",
            "\n",
            "Warnings:\n",
            "[1] Standard Errors assume that the covariance matrix of the errors is correctly specified.\n",
            "[2] The condition number is large, 4.29e+06. This might indicate that there are\n",
            "strong multicollinearity or other numerical problems.\n"
          ],
          "name": "stdout"
        }
      ]
    },
    {
      "cell_type": "code",
      "metadata": {
        "id": "GM1H7399LKFh",
        "colab": {
          "base_uri": "https://localhost:8080/",
          "height": 52
        },
        "outputId": "ccd31c50-c54b-4e1b-dc3f-7e984784e389"
      },
      "source": [
        "from sklearn.model_selection import train_test_split\n",
        "X_train, X_test, y_train, y_test = train_test_split(train_X, y, test_size = 3)\n",
        "\n",
        "# Fitting Multiple Linear Regression to the Training set\n",
        "from sklearn.linear_model import LinearRegression\n",
        "model_regressor = LinearRegression()\n",
        "model_regressor.fit(X_train, y_train)\n",
        "\n",
        "# Predicting the Test set results\n",
        "#We can compare y_pred and y_test to find its accuracy\n",
        "ypred = model_regressor.predict(X_test)\n",
        "\n",
        "from sklearn.metrics import mean_squared_error\n",
        "from math import sqrt\n",
        "from sklearn.metrics import r2_score\n",
        "\n",
        "rmse = sqrt(mean_squared_error(y_test, ypred))\n",
        "print(\"RMSE is:\",rmse)\n",
        "\n",
        "r2=r2_score(y_test, ypred)\n",
        "print(\"r2 score:\",r2)"
      ],
      "execution_count": null,
      "outputs": [
        {
          "output_type": "stream",
          "text": [
            "RMSE is: 305241.53733734746\n",
            "r2 score: 0.9186286865639133\n"
          ],
          "name": "stdout"
        }
      ]
    },
    {
      "cell_type": "markdown",
      "metadata": {
        "id": "WAuW8g8YLKF-"
      },
      "source": [
        "## 4. Method 2: Least Absolute Shrinkage and Selection Operator(Lasso) (30 points)"
      ]
    },
    {
      "cell_type": "code",
      "metadata": {
        "id": "7_ks8DuzLKGC",
        "colab": {
          "base_uri": "https://localhost:8080/",
          "height": 52
        },
        "outputId": "9ddf0668-d48a-4a3e-af97-98efe44ac80b"
      },
      "source": [
        "X_train, X_test, y_train, y_test = train_test_split(X, y, test_size = 0.2, random_state = 0)\n",
        "\n",
        "\n",
        "from sklearn import linear_model\n",
        "model_lasso = linear_model.Lasso(alpha=0.2)\n",
        "#model_lasso = linear_model.Lasso()\n",
        "\n",
        "model_lasso.fit(X_train,y_train)\n",
        "\n",
        "ypred2=model_lasso.predict(X_test)\n",
        "\n",
        "from sklearn.metrics import mean_squared_error\n",
        "from math import sqrt\n",
        "from sklearn.metrics import r2_score\n",
        "\n",
        "rmse2 = sqrt(mean_squared_error(y_test, ypred2))\n",
        "print(\"RMSE is:\",rmse2)\n",
        "\n",
        "r22=r2_score(y_test, ypred2)\n",
        "print(\"r2 score:\",r22)"
      ],
      "execution_count": null,
      "outputs": [
        {
          "output_type": "stream",
          "text": [
            "RMSE is: 461418.3343116447\n",
            "r2 score: 0.7594900084273053\n"
          ],
          "name": "stdout"
        }
      ]
    },
    {
      "cell_type": "markdown",
      "metadata": {
        "id": "j3shIoFHNha7"
      },
      "source": [
        "**5. Method 3: Decision Tree (15 points)**"
      ]
    },
    {
      "cell_type": "code",
      "metadata": {
        "id": "Hcog8hkKNhBv",
        "colab": {
          "base_uri": "https://localhost:8080/",
          "height": 52
        },
        "outputId": "33128dce-2c05-4a22-fbb2-48f409433f03"
      },
      "source": [
        "from sklearn.tree import DecisionTreeRegressor\n",
        "model = DecisionTreeRegressor(random_state = 17)\n",
        "model.fit(X_train,y_train)\n",
        "target = model.predict(X_test)\n",
        "DT_r2= r2_score(target,y_test)\n",
        "DT_rmse = np.sqrt(mean_squared_error(target,y_test))\n",
        "print(\"RMS: \",DT_rmse)\n",
        "print(\"r2 score: \",DT_r2)"
      ],
      "execution_count": null,
      "outputs": [
        {
          "output_type": "stream",
          "text": [
            "RMS:  505288.16355744563\n",
            "r2 score:  0.7222667486444525\n"
          ],
          "name": "stdout"
        }
      ]
    },
    {
      "cell_type": "markdown",
      "metadata": {
        "id": "Xq2NswEFOStq"
      },
      "source": [
        "**6. Method 4: Random Forest (15 points)**"
      ]
    },
    {
      "cell_type": "code",
      "metadata": {
        "id": "766BIMxVOddk",
        "colab": {
          "base_uri": "https://localhost:8080/",
          "height": 107
        },
        "outputId": "e080b39d-0073-47f5-c8a0-5efebaad9056"
      },
      "source": [
        "from sklearn.ensemble import RandomForestRegressor\n",
        "model = RandomForestRegressor(random_state = 17)\n",
        "model.fit(X_train,y_train)\n",
        "target = model.predict(X_test)\n",
        "RF_r2= r2_score(target,y_test)\n",
        "RF_rmse = np.sqrt(mean_squared_error(target,y_test))\n",
        "print(\"RMS: \",RF_rmse)\n",
        "print(\"r2 score: \",RF_r2)"
      ],
      "execution_count": null,
      "outputs": [
        {
          "output_type": "stream",
          "text": [
            "/usr/local/lib/python3.6/dist-packages/sklearn/ensemble/forest.py:246: FutureWarning: The default value of n_estimators will change from 10 in version 0.20 to 100 in 0.22.\n",
            "  \"10 in version 0.20 to 100 in 0.22.\", FutureWarning)\n"
          ],
          "name": "stderr"
        },
        {
          "output_type": "stream",
          "text": [
            "RMS:  396494.77468316146\n",
            "r2 score:  0.8016115214295947\n"
          ],
          "name": "stdout"
        }
      ]
    },
    {
      "cell_type": "markdown",
      "metadata": {
        "id": "ZaX8tUf2LKGW"
      },
      "source": [
        "## 7. Test Data Set Prediction Results Comparison Table of Method 1 and Method 2 (10 points\n",
        "* Please fill in your results to the following table"
      ]
    },
    {
      "cell_type": "markdown",
      "metadata": {
        "id": "fZeURKe3LKGZ"
      },
      "source": [
        "<table>\n",
        "<thead>\n",
        "    <tr>\n",
        "    <th colspan=\"3\">Predict The Bay Area’s Home Prices</th>\n",
        "    </tr>\n",
        "    <tr>\n",
        "    <th> </th>\n",
        "    <th>Multiple Linear Regression</th>\n",
        "    <th>Lasso</th>\n",
        "    </tr>\n",
        "</thead>\n",
        "<tbody>\n",
        "    <tr>\n",
        "        <th>R Squared Score</th>\n",
        "        <td> null </td>\n",
        "        <td> null </td>\n",
        "    </tr>\n",
        "     <tr>\n",
        "         <th>RMSE</th>\n",
        "        <td> null </td>\n",
        "        <td> null </td>\n",
        "    </tr>\n",
        "</tbody>\n",
        "</table>"
      ]
    },
    {
      "cell_type": "code",
      "metadata": {
        "id": "F-ibcuC7LKGd",
        "colab": {
          "base_uri": "https://localhost:8080/",
          "height": 87
        },
        "outputId": "5959da01-7d02-413e-f7cf-556d3132f315"
      },
      "source": [
        "from tabulate import tabulate\n",
        "print(tabulate([['R squared Score', r2,r22,DT_r2,RF_r2], ['RMSE', rmse,rmse2,DT_rmse,RF_rmse]], headers=['Multiple Linear Regression', 'Lasso','Decision Tree','Random Forest']))"
      ],
      "execution_count": null,
      "outputs": [
        {
          "output_type": "stream",
          "text": [
            "                   Multiple Linear Regression         Lasso    Decision Tree    Random Forest\n",
            "---------------  ----------------------------  ------------  ---------------  ---------------\n",
            "R squared Score                      0.918629       0.75949         0.722267         0.801612\n",
            "RMSE                            305242         461418          505288           396495\n"
          ],
          "name": "stdout"
        }
      ]
    },
    {
      "cell_type": "code",
      "metadata": {
        "id": "qNHJGGg9LKG5"
      },
      "source": [
        ""
      ],
      "execution_count": null,
      "outputs": []
    },
    {
      "cell_type": "code",
      "metadata": {
        "id": "HmaL5wQ4LKHF"
      },
      "source": [
        ""
      ],
      "execution_count": null,
      "outputs": []
    }
  ]
}
